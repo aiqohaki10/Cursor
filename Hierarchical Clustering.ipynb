{
  "nbformat": 4,
  "nbformat_minor": 0,
  "metadata": {
    "colab": {
      "provenance": [],
      "mount_file_id": "1_Bi8bcNQ7079NxhxG8EM7uKKbt-QD84j",
      "authorship_tag": "ABX9TyMb1AHPuAnElSJCZYbOT9r/",
      "include_colab_link": true
    },
    "kernelspec": {
      "name": "python3",
      "display_name": "Python 3"
    },
    "language_info": {
      "name": "python"
    }
  },
  "cells": [
    {
      "cell_type": "markdown",
      "metadata": {
        "id": "view-in-github",
        "colab_type": "text"
      },
      "source": [
        "<a href=\"https://colab.research.google.com/github/aiqohaki10/Cursor/blob/master/Hierarchical%20Clustering.ipynb\" target=\"_parent\"><img src=\"https://colab.research.google.com/assets/colab-badge.svg\" alt=\"Open In Colab\"/></a>"
      ]
    },
    {
      "cell_type": "markdown",
      "source": [
        "**Langkah-Langkah Analisis Data dan Clustering\n",
        "Berikut adalah kerangka untuk menyelesaikan tugas clustering dengan data ini:**\n",
        "1. Muat dan Tinjau Dataset\n",
        "Membaca dataset menggunakan pandas.\n",
        "Melihat jumlah baris dan kolom, sampel data, serta tipe datanya:"
      ],
      "metadata": {
        "id": "_vDtUTxy9y_S"
      }
    },
    {
      "cell_type": "code",
      "execution_count": 21,
      "metadata": {
        "colab": {
          "base_uri": "https://localhost:8080/",
          "height": 0
        },
        "id": "jFcyrRgwVC-q",
        "outputId": "659510ba-101b-408f-99ec-7da056813c52"
      },
      "outputs": [
        {
          "output_type": "stream",
          "name": "stdout",
          "text": [
            "(541909, 8)\n",
            "<class 'pandas.core.frame.DataFrame'>\n",
            "RangeIndex: 541909 entries, 0 to 541908\n",
            "Data columns (total 8 columns):\n",
            " #   Column       Non-Null Count   Dtype  \n",
            "---  ------       --------------   -----  \n",
            " 0   InvoiceNo    541909 non-null  object \n",
            " 1   StockCode    541909 non-null  object \n",
            " 2   Description  540455 non-null  object \n",
            " 3   Quantity     541909 non-null  int64  \n",
            " 4   InvoiceDate  541909 non-null  object \n",
            " 5   UnitPrice    541909 non-null  float64\n",
            " 6   CustomerID   406829 non-null  float64\n",
            " 7   Country      541909 non-null  object \n",
            "dtypes: float64(2), int64(1), object(5)\n",
            "memory usage: 33.1+ MB\n",
            "None\n",
            "  InvoiceNo StockCode                          Description  Quantity  \\\n",
            "0    536365    85123A   WHITE HANGING HEART T-LIGHT HOLDER         6   \n",
            "1    536365     71053                  WHITE METAL LANTERN         6   \n",
            "2    536365    84406B       CREAM CUPID HEARTS COAT HANGER         8   \n",
            "3    536365    84029G  KNITTED UNION FLAG HOT WATER BOTTLE         6   \n",
            "4    536365    84029E       RED WOOLLY HOTTIE WHITE HEART.         6   \n",
            "\n",
            "      InvoiceDate  UnitPrice  CustomerID         Country  \n",
            "0  12/1/2010 8:26       2.55     17850.0  United Kingdom  \n",
            "1  12/1/2010 8:26       3.39     17850.0  United Kingdom  \n",
            "2  12/1/2010 8:26       2.75     17850.0  United Kingdom  \n",
            "3  12/1/2010 8:26       3.39     17850.0  United Kingdom  \n",
            "4  12/1/2010 8:26       3.39     17850.0  United Kingdom  \n"
          ]
        }
      ],
      "source": [
        "import pandas as pd\n",
        "\n",
        "# Baca dataset\n",
        "df = pd.read_csv('/content/drive/MyDrive/SainsData/data.csv', encoding='latin-1')\n",
        "\n",
        "# Tinjau dataset\n",
        "print(df.shape)\n",
        "print(df.info())\n",
        "print(df.head())\n"
      ]
    },
    {
      "cell_type": "markdown",
      "source": [
        "2. Pembersihan Data (Data Cleaning)\n",
        "\n",
        "- Menghapus nilai yang hilang:"
      ],
      "metadata": {
        "id": "lrz1zSf4-NmZ"
      }
    },
    {
      "cell_type": "code",
      "source": [
        "df.dropna(subset=['CustomerID'], inplace=True)\n"
      ],
      "metadata": {
        "id": "OdrW64QtWQrl"
      },
      "execution_count": 22,
      "outputs": []
    },
    {
      "cell_type": "markdown",
      "source": [
        "- Menghapus transaksi yang tidak valid (misalnya, jumlah atau harga negatif):"
      ],
      "metadata": {
        "id": "MLaHWYGR-VB8"
      }
    },
    {
      "cell_type": "code",
      "source": [
        "df = df[(df['Quantity'] > 0) & (df['UnitPrice'] > 0)]\n"
      ],
      "metadata": {
        "id": "sZtxg_ziWTak"
      },
      "execution_count": 23,
      "outputs": []
    },
    {
      "cell_type": "markdown",
      "source": [
        "3. Fitur Baru untuk Analisis\n",
        "\n",
        "- Total Pendapatan: Buat kolom baru untuk menghitung total pendapatan per transaksi:\n"
      ],
      "metadata": {
        "id": "8Zqogwr3-znk"
      }
    },
    {
      "cell_type": "code",
      "source": [
        "df['TotalPrice'] = df['Quantity'] * df['UnitPrice']\n"
      ],
      "metadata": {
        "id": "VzTOxhXKWXcm",
        "colab": {
          "base_uri": "https://localhost:8080/",
          "height": 0
        },
        "outputId": "9075dc2c-63e0-4920-b76a-05db2f5e6d11"
      },
      "execution_count": 24,
      "outputs": [
        {
          "output_type": "stream",
          "name": "stderr",
          "text": [
            "<ipython-input-24-18878337d6d9>:1: SettingWithCopyWarning: \n",
            "A value is trying to be set on a copy of a slice from a DataFrame.\n",
            "Try using .loc[row_indexer,col_indexer] = value instead\n",
            "\n",
            "See the caveats in the documentation: https://pandas.pydata.org/pandas-docs/stable/user_guide/indexing.html#returning-a-view-versus-a-copy\n",
            "  df['TotalPrice'] = df['Quantity'] * df['UnitPrice']\n"
          ]
        }
      ]
    },
    {
      "cell_type": "markdown",
      "source": [
        "- Ekstraksi waktu : Buat kolom tambahan seperti hari, bulan, atau jam transaksi:\n"
      ],
      "metadata": {
        "id": "1HHLqSlQ-6sJ"
      }
    },
    {
      "cell_type": "code",
      "source": [
        "df['InvoiceDate'] = pd.to_datetime(df['InvoiceDate'])\n",
        "df['Month'] = df['InvoiceDate'].dt.month\n"
      ],
      "metadata": {
        "id": "C7sOoELkWa1W"
      },
      "execution_count": 25,
      "outputs": []
    },
    {
      "cell_type": "markdown",
      "source": [
        "4. Persiapan untuk Clustering\n",
        "- Gunakan data seperti:\n",
        " - Jumlah transaksi (InvoiceNo).\n",
        " - Total spending per customer.\n",
        " - Jumlah produk yang dibeli.\n",
        " - Negara (jika diperlukan untuk segmentasi berdasarkan lokasi).\n",
        "\n",
        "Contoh agregasi data:"
      ],
      "metadata": {
        "id": "s3k9jdR1_Cl9"
      }
    },
    {
      "cell_type": "code",
      "source": [
        "customer_data = df.groupby('CustomerID').agg({\n",
        "    'TotalPrice': 'sum',   # Total pengeluaran\n",
        "    'InvoiceNo': 'nunique',  # Jumlah transaksi\n",
        "    'Quantity': 'sum'        # Total barang dibeli\n",
        "}).reset_index()\n",
        "\n",
        "print(customer_data.head())\n"
      ],
      "metadata": {
        "colab": {
          "base_uri": "https://localhost:8080/",
          "height": 0
        },
        "id": "qyyBpOOzWhkw",
        "outputId": "a654e625-4b37-4fd2-c608-ff1fcd723214"
      },
      "execution_count": 26,
      "outputs": [
        {
          "output_type": "stream",
          "name": "stdout",
          "text": [
            "   CustomerID  TotalPrice  InvoiceNo  Quantity\n",
            "0     12346.0    77183.60          1     74215\n",
            "1     12347.0     4310.00          7      2458\n",
            "2     12348.0     1797.24          4      2341\n",
            "3     12349.0     1757.55          1       631\n",
            "4     12350.0      334.40          1       197\n"
          ]
        }
      ]
    },
    {
      "cell_type": "markdown",
      "source": [
        "5. Normalisasi Data\n",
        "- Sebelum clustering, normalisasi data menggunakan MinMaxScaler:"
      ],
      "metadata": {
        "id": "FIfWzRyg_YqT"
      }
    },
    {
      "cell_type": "code",
      "source": [
        "from sklearn.preprocessing import MinMaxScaler\n",
        "\n",
        "scaler = MinMaxScaler()\n",
        "customer_data_scaled = scaler.fit_transform(customer_data[['TotalPrice', 'InvoiceNo', 'Quantity']])\n"
      ],
      "metadata": {
        "id": "ND1kO6zUWnfu"
      },
      "execution_count": 27,
      "outputs": []
    },
    {
      "cell_type": "markdown",
      "source": [
        "6. Clustering Hierarkis\n",
        "\n",
        "- Dendrogram: Visualisasi untuk menentukan jumlah cluster.\n",
        "\n"
      ],
      "metadata": {
        "id": "FllrnxX8_dgo"
      }
    },
    {
      "cell_type": "code",
      "source": [
        "import scipy.cluster.hierarchy as sch\n",
        "import matplotlib.pyplot as plt\n",
        "\n",
        "plt.figure(figsize=(10, 7))\n",
        "dendrogram = sch.dendrogram(sch.linkage(customer_data_scaled, method='ward'))\n",
        "plt.title('Dendrogram')\n",
        "plt.show()\n"
      ],
      "metadata": {
        "colab": {
          "base_uri": "https://localhost:8080/",
          "height": 626
        },
        "id": "mawHhwCqWqML",
        "outputId": "5d754dca-b05e-4583-d11b-9fcdb9eaeb40"
      },
      "execution_count": 28,
      "outputs": [
        {
          "output_type": "display_data",
          "data": {
            "text/plain": [
              "<Figure size 1000x700 with 1 Axes>"
            ],
            "image/png": "[encoded data removed]"
          },
          "metadata": {}
        }
      ]
    },
    {
      "cell_type": "markdown",
      "source": [
        "**Agglomerative Clustering:**"
      ],
      "metadata": {
        "id": "HZcwvuWbAGBZ"
      }
    },
    {
      "cell_type": "code",
      "source": [
        "from sklearn.cluster import AgglomerativeClustering\n",
        "\n",
        "# Perbaikan: ganti affinity menjadi metric\n",
        "hc = AgglomerativeClustering(n_clusters=4, metric='euclidean', linkage='ward')\n",
        "clusters = hc.fit_predict(customer_data_scaled)\n",
        "customer_data['Cluster'] = clusters\n"
      ],
      "metadata": {
        "id": "lYTddzS3XHt_"
      },
      "execution_count": 29,
      "outputs": []
    },
    {
      "cell_type": "markdown",
      "source": [
        "- Menghitung rata-rata Quantity dan UnitPrice per cluster dan menilai cluster berdasarkan kategori rendah, sedang, atau tinggi."
      ],
      "metadata": {
        "id": "lJa1ijUzFyF7"
      }
    },
    {
      "cell_type": "code",
      "source": [
        "# Merge 'Cluster' column from customer_data to df based on 'CustomerID'\n",
        "df = pd.merge(df, customer_data[['CustomerID', 'Cluster']], on='CustomerID', how='left')\n",
        "\n",
        "# Now you can group by 'Cluster' in df:\n",
        "cluster_summary = df.groupby('Cluster')[['Quantity', 'UnitPrice']].mean()\n",
        "print(cluster_summary)"
      ],
      "metadata": {
        "colab": {
          "base_uri": "https://localhost:8080/",
          "height": 0
        },
        "id": "ALcbquzmFD38",
        "outputId": "4a1cf453-13b4-4174-ce4b-494fc8a377d2"
      },
      "execution_count": 30,
      "outputs": [
        {
          "output_type": "stream",
          "name": "stdout",
          "text": [
            "           Quantity  UnitPrice\n",
            "Cluster                       \n",
            "0        105.688803   3.525898\n",
            "1          8.446621   3.060130\n",
            "2          9.716426   3.025376\n",
            "3         14.043935   3.298178\n"
          ]
        }
      ]
    },
    {
      "cell_type": "markdown",
      "source": [
        "**Interpretasi dan Penentuan Cluster**\n",
        "\n",
        "- Setelah menghitung rata-rata, kita menganalisis output dan memberikan label seperti berikut:\n"
      ],
      "metadata": {
        "id": "1irLRh7jF2CA"
      }
    },
    {
      "cell_type": "code",
      "source": [
        "# Menampilkan rata-rata dan interpretasi\n",
        "print(\"\\nInterpretasi Cluster:\")\n",
        "for i, row in cluster_summary.iterrows():\n",
        "    quantity_avg = row['Quantity']\n",
        "    price_avg = row['UnitPrice']\n",
        "    if quantity_avg < 30 and price_avg < 10:\n",
        "        print(f\"Cluster {i} - Kuantitas: Rendah, Harga: Rendah\")\n",
        "    elif quantity_avg >= 30 and price_avg >= 10:\n",
        "        print(f\"Cluster {i} - Kuantitas: Tinggi, Harga: Tinggi\")\n",
        "    else:\n",
        "        print(f\"Cluster {i} - Kuantitas: Sedang, Harga: Sedang\")\n"
      ],
      "metadata": {
        "colab": {
          "base_uri": "https://localhost:8080/",
          "height": 0
        },
        "id": "iBU_CoYaFdtg",
        "outputId": "9eccf3b3-7ce5-48a3-945a-376b37e52816"
      },
      "execution_count": 31,
      "outputs": [
        {
          "output_type": "stream",
          "name": "stdout",
          "text": [
            "\n",
            "Interpretasi Cluster:\n",
            "Cluster 0 - Kuantitas: Sedang, Harga: Sedang\n",
            "Cluster 1 - Kuantitas: Rendah, Harga: Rendah\n",
            "Cluster 2 - Kuantitas: Rendah, Harga: Rendah\n",
            "Cluster 3 - Kuantitas: Rendah, Harga: Rendah\n"
          ]
        }
      ]
    },
    {
      "cell_type": "markdown",
      "source": [
        "7. Visualisasi Hasil\n",
        "\n",
        "- Gunakan seaborn atau plotly untuk visualisasi hasil clustering:"
      ],
      "metadata": {
        "id": "oifG4cdU_sAY"
      }
    },
    {
      "cell_type": "code",
      "source": [
        "import seaborn as sns\n",
        "\n",
        "sns.scatterplot(\n",
        "    x=customer_data['TotalPrice'],\n",
        "    y=customer_data['Quantity'],\n",
        "    hue=customer_data['Cluster'],\n",
        "    palette='viridis'\n",
        ")\n",
        "plt.title('Customer Clusters')\n",
        "plt.show()\n"
      ],
      "metadata": {
        "colab": {
          "base_uri": "https://localhost:8080/",
          "height": 472
        },
        "id": "YajExDJZXZz-",
        "outputId": "6d175acf-9bc6-4e20-9b03-2097fe95d05d"
      },
      "execution_count": 32,
      "outputs": [
        {
          "output_type": "display_data",
          "data": {
            "text/plain": [
              "<Figure size 640x480 with 1 Axes>"
            ],
            "image/png": "[encoded data removed]"
          },
          "metadata": {}
        }
      ]
    },
    {
      "cell_type": "code",
      "source": [
        "from sklearn.cluster import AgglomerativeClustering\n",
        "from sklearn.metrics import silhouette_score\n",
        "\n",
        "# Terapkan Agglomerative Clustering\n",
        "hc = AgglomerativeClustering(n_clusters=4, metric='euclidean', linkage='ward')\n",
        "clusters = hc.fit_predict(customer_data_scaled)\n",
        "\n",
        "# Perbaikan: Ganti unique_invoices dengan customer_data\n",
        "customer_data['Cluster'] = clusters\n",
        "\n",
        "# Hitung Silhouette Score\n",
        "score = silhouette_score(customer_data_scaled, clusters, metric='euclidean')\n",
        "\n",
        "print(f\"Silhouette Score: {score:.3f}\")"
      ],
      "metadata": {
        "colab": {
          "base_uri": "https://localhost:8080/",
          "height": 0
        },
        "id": "QPXLAyRLC1Q8",
        "outputId": "49836d70-da40-4f42-d2ed-d242e9524ba0"
      },
      "execution_count": 33,
      "outputs": [
        {
          "output_type": "stream",
          "name": "stdout",
          "text": [
            "Silhouette Score: 0.777\n"
          ]
        }
      ]
    },
    {
      "cell_type": "markdown",
      "source": [
        "Setelah proses clustering dan visualisasi, dataset akhir yang dihasilkan perlu menyertakan semua kolom asli dan kolom tambahan hasil analisis, seperti TotalPrice, dan Cluster. Berikut adalah kode untuk menyimpan dataset hasil ke file CSV:"
      ],
      "metadata": {
        "id": "H8hxonbkAU-v"
      }
    },
    {
      "cell_type": "code",
      "source": [
        "# Tambahkan cluster ke dataset asli\n",
        "# Gabungan customer_data dengan data awal berdasarkan CustomerID\n",
        "df_final = df.merge(customer_data[['CustomerID', 'Cluster']], on='CustomerID', how='left')\n",
        "\n",
        "# Simpan dataset hasil ke dalam file CSV\n",
        "df_final.to_csv('ecommerce_clustered_data.csv', index=False)\n",
        "\n",
        "print(\"Dataset akhir telah disimpan sebagai 'ecommerce_clustered_data.csv'.\")\n"
      ],
      "metadata": {
        "id": "6kvqzqEjYEP7",
        "outputId": "b139d8ad-2299-4c1c-b914-2c29004b7d1d",
        "colab": {
          "base_uri": "https://localhost:8080/",
          "height": 0
        }
      },
      "execution_count": 34,
      "outputs": [
        {
          "output_type": "stream",
          "name": "stdout",
          "text": [
            "Dataset akhir telah disimpan sebagai 'ecommerce_clustered_data.csv'.\n"
          ]
        }
      ]
    }
  ]
}